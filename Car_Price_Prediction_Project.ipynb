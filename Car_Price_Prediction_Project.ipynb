{
  "cells": [
    {
      "cell_type": "markdown",
      "metadata": {
        "id": "zsFrFacbQrAt"
      },
      "source": [
        "Step 1: Importing Libraries"
      ]
    },
    {
      "cell_type": "code",
      "execution_count": 1,
      "metadata": {
        "id": "L_qpVCGweqQd"
      },
      "outputs": [],
      "source": [
        "import pandas as pd\n",
        "import numpy as np\n",
        "import matplotlib.pyplot as plt\n",
        "import seaborn as sns\n",
        "from sklearn.model_selection import train_test_split\n",
        "from sklearn.ensemble import RandomForestRegressor\n",
        "from sklearn.metrics import mean_squared_error, mean_absolute_error, r2_score"
      ]
    },
    {
      "cell_type": "markdown",
      "metadata": {
        "id": "HhahhuLDRjBV"
      },
      "source": [
        "Step 2: Loading the Dataset"
      ]
    },
    {
      "cell_type": "code",
      "execution_count": 2,
      "metadata": {
        "id": "EXGszEez0fXr"
      },
      "outputs": [],
      "source": [
        "cars_data = pd.read_csv('pakwheels dataset.csv')"
      ]
    },
    {
      "cell_type": "markdown",
      "metadata": {
        "id": "ZwJ2bM5-R89B"
      },
      "source": [
        "Step 3: Exploratory Data Analysis"
      ]
    },
    {
      "cell_type": "code",
      "execution_count": 3,
      "metadata": {
        "colab": {
          "base_uri": "https://localhost:8080/"
        },
        "id": "4UskuDXtSAOb",
        "outputId": "83fe232c-6715-472d-99e9-7e0fed00bdd9"
      },
      "outputs": [
        {
          "name": "stdout",
          "output_type": "stream",
          "text": [
            "Missing values in each column:\n",
            "Car_Body        0\n",
            "Car_Name        0\n",
            "Year            0\n",
            "Engine          0\n",
            "Transmission    0\n",
            "Fueltype        0\n",
            "Mileage         0\n",
            "Price           0\n",
            "dtype: int64\n"
          ]
        }
      ],
      "source": [
        "# Check for missing values\n",
        "print(\"Missing values in each column:\")\n",
        "print(cars_data.isnull().sum())"
      ]
    },
    {
      "cell_type": "code",
      "execution_count": 4,
      "metadata": {
        "id": "USa5-4k2SP95"
      },
      "outputs": [],
      "source": [
        "# Drop rows with missing values\n",
        "cars_data = cars_data.dropna()"
      ]
    },
    {
      "cell_type": "code",
      "execution_count": 5,
      "metadata": {
        "id": "Y38iFtS2XnJ4"
      },
      "outputs": [],
      "source": [
        "# Removing duplicates\n",
        "cars_data.drop_duplicates(inplace=True)"
      ]
    },
    {
      "cell_type": "code",
      "execution_count": 6,
      "metadata": {
        "colab": {
          "base_uri": "https://localhost:8080/"
        },
        "id": "-KmG6cmSSaGH",
        "outputId": "0ab8dfb7-93ee-4b54-fed1-3ce39ca77858"
      },
      "outputs": [
        {
          "name": "stdout",
          "output_type": "stream",
          "text": [
            "<class 'pandas.core.frame.DataFrame'>\n",
            "RangeIndex: 6613 entries, 0 to 6612\n",
            "Data columns (total 8 columns):\n",
            " #   Column        Non-Null Count  Dtype \n",
            "---  ------        --------------  ----- \n",
            " 0   Car_Body      6613 non-null   object\n",
            " 1   Car_Name      6613 non-null   object\n",
            " 2   Year          6613 non-null   int64 \n",
            " 3   Engine        6613 non-null   int64 \n",
            " 4   Transmission  6613 non-null   object\n",
            " 5   Fueltype      6613 non-null   object\n",
            " 6   Mileage       6613 non-null   int64 \n",
            " 7   Price         6613 non-null   int64 \n",
            "dtypes: int64(4), object(4)\n",
            "memory usage: 413.4+ KB\n",
            "None\n"
          ]
        }
      ],
      "source": [
        "print(cars_data.info())"
      ]
    },
    {
      "cell_type": "code",
      "execution_count": 7,
      "metadata": {
        "colab": {
          "base_uri": "https://localhost:8080/",
          "height": 206
        },
        "id": "eYcvlkEm0lI6",
        "outputId": "1cfc7197-2469-4f9e-c3d0-b718b8f2dc6a"
      },
      "outputs": [
        {
          "data": {
            "text/html": [
              "<div>\n",
              "<style scoped>\n",
              "    .dataframe tbody tr th:only-of-type {\n",
              "        vertical-align: middle;\n",
              "    }\n",
              "\n",
              "    .dataframe tbody tr th {\n",
              "        vertical-align: top;\n",
              "    }\n",
              "\n",
              "    .dataframe thead th {\n",
              "        text-align: right;\n",
              "    }\n",
              "</style>\n",
              "<table border=\"1\" class=\"dataframe\">\n",
              "  <thead>\n",
              "    <tr style=\"text-align: right;\">\n",
              "      <th></th>\n",
              "      <th>Car_Body</th>\n",
              "      <th>Car_Name</th>\n",
              "      <th>Year</th>\n",
              "      <th>Engine</th>\n",
              "      <th>Transmission</th>\n",
              "      <th>Fueltype</th>\n",
              "      <th>Mileage</th>\n",
              "      <th>Price</th>\n",
              "    </tr>\n",
              "  </thead>\n",
              "  <tbody>\n",
              "    <tr>\n",
              "      <th>0</th>\n",
              "      <td>Hatchback</td>\n",
              "      <td>Move</td>\n",
              "      <td>2019</td>\n",
              "      <td>660</td>\n",
              "      <td>Automatic</td>\n",
              "      <td>Petrol</td>\n",
              "      <td>77450</td>\n",
              "      <td>3650000</td>\n",
              "    </tr>\n",
              "    <tr>\n",
              "      <th>1</th>\n",
              "      <td>Hatchback</td>\n",
              "      <td>Move</td>\n",
              "      <td>2019</td>\n",
              "      <td>660</td>\n",
              "      <td>Automatic</td>\n",
              "      <td>Petrol</td>\n",
              "      <td>47499</td>\n",
              "      <td>3850000</td>\n",
              "    </tr>\n",
              "    <tr>\n",
              "      <th>2</th>\n",
              "      <td>Hatchback</td>\n",
              "      <td>Move</td>\n",
              "      <td>2019</td>\n",
              "      <td>660</td>\n",
              "      <td>Automatic</td>\n",
              "      <td>Petrol</td>\n",
              "      <td>69951</td>\n",
              "      <td>3550000</td>\n",
              "    </tr>\n",
              "    <tr>\n",
              "      <th>3</th>\n",
              "      <td>Hatchback</td>\n",
              "      <td>Move</td>\n",
              "      <td>2019</td>\n",
              "      <td>660</td>\n",
              "      <td>Automatic</td>\n",
              "      <td>Petrol</td>\n",
              "      <td>83465</td>\n",
              "      <td>3550000</td>\n",
              "    </tr>\n",
              "    <tr>\n",
              "      <th>4</th>\n",
              "      <td>SUV</td>\n",
              "      <td>Land</td>\n",
              "      <td>2022</td>\n",
              "      <td>3500</td>\n",
              "      <td>Automatic</td>\n",
              "      <td>Petrol</td>\n",
              "      <td>12000</td>\n",
              "      <td>89800000</td>\n",
              "    </tr>\n",
              "  </tbody>\n",
              "</table>\n",
              "</div>"
            ],
            "text/plain": [
              "    Car_Body Car_Name  Year  Engine Transmission Fueltype  Mileage     Price\n",
              "0  Hatchback     Move  2019     660    Automatic   Petrol    77450   3650000\n",
              "1  Hatchback     Move  2019     660    Automatic   Petrol    47499   3850000\n",
              "2  Hatchback     Move  2019     660    Automatic   Petrol    69951   3550000\n",
              "3  Hatchback     Move  2019     660    Automatic   Petrol    83465   3550000\n",
              "4        SUV     Land  2022    3500    Automatic   Petrol    12000  89800000"
            ]
          },
          "execution_count": 7,
          "metadata": {},
          "output_type": "execute_result"
        }
      ],
      "source": [
        "cars_data.head()"
      ]
    },
    {
      "cell_type": "code",
      "execution_count": 8,
      "metadata": {
        "colab": {
          "base_uri": "https://localhost:8080/"
        },
        "id": "IMaZcdIN0sqU",
        "outputId": "c501df5e-244e-4a16-c502-211abfabc54e"
      },
      "outputs": [
        {
          "data": {
            "text/plain": [
              "(6613, 8)"
            ]
          },
          "execution_count": 8,
          "metadata": {},
          "output_type": "execute_result"
        }
      ],
      "source": [
        "cars_data.shape"
      ]
    },
    {
      "cell_type": "code",
      "execution_count": 9,
      "metadata": {
        "colab": {
          "base_uri": "https://localhost:8080/"
        },
        "id": "Bb4_kQ-U1Sw-",
        "outputId": "9dc06b5e-bc16-4d79-a501-599f658a1802"
      },
      "outputs": [
        {
          "name": "stdout",
          "output_type": "stream",
          "text": [
            "Unique values of Car_Body\n",
            "['Hatchback' 'SUV' 'Crossover' 'Sedan' 'Micro Van' 'MPV' 'Van'\n",
            " 'Compact SUV' 'Station Wagon' 'Mini Van' 'Double Cabin' 'Convertible'\n",
            " 'Coupe' 'Pick Up' 'Mini Vehicles' 'High Roof' 'Compact sedan'\n",
            " 'Compact hatchback' 'Truck' 'Single Cabin']\n",
            "======================\n",
            "Unique values of Car_Name\n",
            "['Move' 'Land' 'Vitz' 'Alto' 'Passo' 'C-HR' 'Hustler' 'Corolla' 'Raize'\n",
            " 'Fortuner' 'Vezel' 'N' 'Picanto' 'Yaris' 'Prius' 'Benz' 'Every' 'X70'\n",
            " 'Grand' 'Wagon' 'Dayz' 'Mira' 'Prado' 'Flair' 'Clipper' 'Hiace' 'Vitara'\n",
            " 'Aygo' 'Saga' 'HS' 'Fit' 'A3' 'BR-V' 'Sienta' 'Oshan' 'Rover' 'Celerio'\n",
            " 'Sorento' 'LX' 'Cast' 'X1' 'Q2' 'A4' 'Note' 'V2' 'Ek' 'Cayenne' 'Grace'\n",
            " 'A6' 'Boon' 'Aqua' 'Thor' 'Civic' 'Q7' 'Pearl' 'Hijet' 'Mehran' 'Xbee'\n",
            " 'Tundra' 'Juke' 'Karvaan' 'Elantra' 'Harrier' 'Voxy' 'ZS' 'Stonic'\n",
            " 'Kizashi' 'Freed' 'Crown' 'Glory' 'Sonata' 'Jimny' 'Premio' 'Roomy'\n",
            " 'Swift' 'Carol' 'Camry' 'Insight' 'Alsvin' 'Tucson' 'CR-V' 'Tiggo'\n",
            " 'Sportage' 'MX' 'Jade' 'RX' 'City' 'Tacoma' 'Moco' 'Taft' 'EK' 'Avanza'\n",
            " 'H6' 'Ciaz' 'Pixis' 'A5' 'Hilux' 'Serena' 'S660' 'Tanto' 'Bravo' 'Spacia'\n",
            " 'Stella' 'F' 'A8' 'Roox' 'X-PV' 'Cultus' 'BJ40' 'Rocky' 'Kicks' 'Sierra'\n",
            " 'Copen' 'Kona' 'Spike' 'Q3' 'Tank' 'Mark' 'X2' 'X7' 'Noah' 'Jolion'\n",
            " 'Challenger' 'Terios' 'Panamera' 'CT200h' 'Cx3' 'Esquire' 'Ignis' 'Bolan'\n",
            " 'MR' 'Rush' 'Accord' 'iQ' 'Wrangler' 'D-Max' 'Ravi' 'Shehzore' 'Pleo'\n",
            " 'Vamos' 'Probox' 'Titan' 'X200' 'CR-Z' 'Z100' 'Mirage' 'Mega' 'A7' 'Nx'\n",
            " 'HR-V' 'Niro' 'K07' 'Amarok' 'Gladiator' 'Patrol' 'Atrai' 'Acty'\n",
            " 'Frontier' 'S' 'X' 'A800' 'Sirius' 'Ioniq' 'Life' 'Cerato' 'Sambar' 'Gen'\n",
            " 'Minica']\n",
            "======================\n",
            "Unique values of Year\n",
            "[2019 2022 2020 2018 2015 2017 2016 2021]\n",
            "======================\n",
            "Unique values of Engine\n",
            "[ 660 3500 1500 1000 1800  996 1300 2700  998 2000 3470 1496 4600 2800\n",
            " 1600 1490 1499 1997 3479 5700 1400 1198 1200 3000 1197 4608  800  796\n",
            " 1999 1368 2400 2487 2755 1498 2500 3300 1598  999 1797 1984 2497 4000\n",
            " 3342 3496 1299 1991 5000 6600 1242 1497 1968 1798 3400 3600 1981 3445\n",
            " 2600 2999 3956 1986 2359 3996 1580 3604 3954  997 1799 5663]\n",
            "======================\n",
            "Unique values of Transmission\n",
            "['Automatic' 'Manual']\n",
            "======================\n",
            "Unique values of Fueltype\n",
            "['Petrol' 'Hybrid' 'Diesel']\n",
            "======================\n",
            "Unique values of Mileage\n",
            "[ 77450  47499  69951 ... 197264  92233 105263]\n",
            "======================\n",
            "Unique values of Price\n",
            "[ 3650000  3850000  3550000 ...  1040000 26700000 23300000]\n",
            "======================\n"
          ]
        }
      ],
      "source": [
        "# Display unique values in each column\n",
        "for col in cars_data.columns:\n",
        "    print('Unique values of ' + col)\n",
        "    print(cars_data[col].unique())\n",
        "    print(\"======================\")"
      ]
    },
    {
      "cell_type": "code",
      "execution_count": 10,
      "metadata": {
        "colab": {
          "base_uri": "https://localhost:8080/",
          "height": 579
        },
        "id": "JABMjFMMl2N8",
        "outputId": "455a7590-ea22-4184-8354-25909cec6da4"
      },
      "outputs": [
        {
          "name": "stderr",
          "output_type": "stream",
          "text": [
            "C:\\Users\\hp\\AppData\\Local\\Temp\\ipykernel_14028\\3697806177.py:6: FutureWarning: \n",
            "\n",
            "Passing `palette` without assigning `hue` is deprecated and will be removed in v0.14.0. Assign the `x` variable to `hue` and set `legend=False` for the same effect.\n",
            "\n",
            "  sns.countplot(x=column, data=cars_data, palette='bright', ax=axes[i], saturation=0.95)\n",
            "C:\\Users\\hp\\AppData\\Local\\Temp\\ipykernel_14028\\3697806177.py:6: FutureWarning: \n",
            "\n",
            "Passing `palette` without assigning `hue` is deprecated and will be removed in v0.14.0. Assign the `x` variable to `hue` and set `legend=False` for the same effect.\n",
            "\n",
            "  sns.countplot(x=column, data=cars_data, palette='bright', ax=axes[i], saturation=0.95)\n",
            "C:\\Users\\hp\\AppData\\Local\\Temp\\ipykernel_14028\\3697806177.py:6: FutureWarning: \n",
            "\n",
            "Passing `palette` without assigning `hue` is deprecated and will be removed in v0.14.0. Assign the `x` variable to `hue` and set `legend=False` for the same effect.\n",
            "\n",
            "  sns.countplot(x=column, data=cars_data, palette='bright', ax=axes[i], saturation=0.95)\n"
          ]
        },
        {
          "data": {
            "image/png": "[encoded data removed]",
            "text/plain": [
              "<Figure size 1500x500 with 3 Axes>"
            ]
          },
          "metadata": {},
          "output_type": "display_data"
        }
      ],
      "source": [
        "# List of categorical columns for visualization\n",
        "categorical_columns = ['Car_Body', 'Transmission', 'Fueltype']\n",
        "fig, axes = plt.subplots(nrows=1, ncols=len(categorical_columns), figsize=(15, 5))\n",
        "axes = axes.ravel()\n",
        "for i, column in enumerate(categorical_columns):\n",
        "    sns.countplot(x=column, data=cars_data, palette='bright', ax=axes[i], saturation=0.95)\n",
        "    for container in axes[i].containers:\n",
        "        axes[i].bar_label(container, color='black', size=10)\n",
        "    axes[i].set_title(f'Count Plot of {column}')\n",
        "    axes[i].set_xlabel(column)\n",
        "    axes[i].set_ylabel('Count')\n",
        "plt.tight_layout()\n",
        "plt.show()"
      ]
    },
    {
      "cell_type": "code",
      "execution_count": 11,
      "metadata": {
        "colab": {
          "base_uri": "https://localhost:8080/",
          "height": 407
        },
        "id": "TrFlOkp_m0Kw",
        "outputId": "8c56e2ed-8821-4e39-a47c-caa81e357019"
      },
      "outputs": [
        {
          "data": {
            "image/png": "[encoded data removed]",
            "text/plain": [
              "<Figure size 700x400 with 1 Axes>"
            ]
          },
          "metadata": {},
          "output_type": "display_data"
        }
      ],
      "source": [
        "#Top car models by frequency\n",
        "n = 20  # Number of top car models to plot\n",
        "top_car_models = cars_data['Car_Name'].value_counts().head(n)\n",
        "plt.figure(figsize=(7, 4))\n",
        "sns.barplot(x=top_car_models.values, y=top_car_models.index)\n",
        "plt.title(f'Top {n} Car Models by Frequency')\n",
        "plt.xlabel('Frequency')\n",
        "plt.ylabel('Car Model')\n",
        "plt.tight_layout()\n",
        "plt.show()"
      ]
    },
    {
      "cell_type": "code",
      "execution_count": 12,
      "metadata": {
        "colab": {
          "base_uri": "https://localhost:8080/",
          "height": 719
        },
        "id": "kDuwRwK8oZx7",
        "outputId": "af3db490-8362-4fbb-eea9-4a3cfc32253a"
      },
      "outputs": [
        {
          "name": "stderr",
          "output_type": "stream",
          "text": [
            "C:\\Users\\hp\\AppData\\Local\\Temp\\ipykernel_14028\\3992467003.py:3: FutureWarning: \n",
            "\n",
            "Passing `palette` without assigning `hue` is deprecated and will be removed in v0.14.0. Assign the `x` variable to `hue` and set `legend=False` for the same effect.\n",
            "\n",
            "  sns.boxplot(x='Car_Body', y='Price', data=cars_data, palette='Set2')\n"
          ]
        },
        {
          "data": {
            "image/png": "[encoded data removed]",
            "text/plain": [
              "<Figure size 600x500 with 1 Axes>"
            ]
          },
          "metadata": {},
          "output_type": "display_data"
        }
      ],
      "source": [
        "# This chart shows how car prices vary for different car body types.\n",
        "plt.figure(figsize=(6, 5))\n",
        "sns.boxplot(x='Car_Body', y='Price', data=cars_data, palette='Set2')\n",
        "plt.title('Price vs. Car Body Type')\n",
        "plt.xlabel('Car Body Type')\n",
        "plt.ylabel('Price')\n",
        "plt.xticks(rotation=90)\n",
        "plt.show()"
      ]
    },
    {
      "cell_type": "code",
      "execution_count": 13,
      "metadata": {
        "colab": {
          "base_uri": "https://localhost:8080/",
          "height": 455
        },
        "id": "roaopjaVo_v_",
        "outputId": "14e5f28f-11eb-4f73-9138-0056fa48882b"
      },
      "outputs": [
        {
          "name": "stderr",
          "output_type": "stream",
          "text": [
            "C:\\Users\\hp\\AppData\\Local\\Temp\\ipykernel_14028\\2557213927.py:3: FutureWarning: \n",
            "\n",
            "Passing `palette` without assigning `hue` is deprecated and will be removed in v0.14.0. Assign the `x` variable to `hue` and set `legend=False` for the same effect.\n",
            "\n",
            "  sns.barplot(x='Transmission', y='Price', data=cars_data, palette='Set2')\n"
          ]
        },
        {
          "data": {
            "image/png": "[encoded data removed]",
            "text/plain": [
              "<Figure size 400x300 with 1 Axes>"
            ]
          },
          "metadata": {},
          "output_type": "display_data"
        }
      ],
      "source": [
        "#the average car price for each transmission type (Automatic vs. Manual).\n",
        "plt.figure(figsize=(4, 3))\n",
        "sns.barplot(x='Transmission', y='Price', data=cars_data, palette='Set2')\n",
        "plt.title('Average Price vs. Transmission Type')\n",
        "plt.xlabel('Transmission Type (1: Automatic, 2: Manual)')\n",
        "plt.ylabel('Average Price')\n",
        "plt.show()"
      ]
    },
    {
      "cell_type": "code",
      "execution_count": 14,
      "metadata": {
        "colab": {
          "base_uri": "https://localhost:8080/",
          "height": 391
        },
        "id": "xGHX51KWnHIl",
        "outputId": "06427619-e05f-4cd6-d6ae-e51521c8523b"
      },
      "outputs": [
        {
          "data": {
            "image/png": "[encoded data removed]",
            "text/plain": [
              "<Figure size 500x400 with 2 Axes>"
            ]
          },
          "metadata": {},
          "output_type": "display_data"
        }
      ],
      "source": [
        "# List of numerical columns for correlation analysis\n",
        "numerical_columns = ['Year', 'Engine', 'Mileage', 'Price']\n",
        "correlation_matrix = cars_data[numerical_columns].corr()\n",
        "plt.figure(figsize=(5, 4))\n",
        "sns.heatmap(correlation_matrix, annot=True, cmap='coolwarm', fmt=\".2f\", linewidths=0.5)\n",
        "plt.title('Correlation Heatmap')\n",
        "plt.show()"
      ]
    },
    {
      "cell_type": "markdown",
      "metadata": {
        "id": "II0iZD-OVvJe"
      },
      "source": [
        "Step 4: Data Preprocessing"
      ]
    },
    {
      "cell_type": "markdown",
      "metadata": {
        "id": "JQcKnkc3jaM2"
      },
      "source": [
        "Encoding categorical features\n",
        "\n",
        "\n",
        "\n"
      ]
    },
    {
      "cell_type": "code",
      "execution_count": 15,
      "metadata": {
        "colab": {
          "base_uri": "https://localhost:8080/"
        },
        "id": "_5PHMImtO8X1",
        "outputId": "815cb07c-7799-4f5e-c31c-f478b2518dd8"
      },
      "outputs": [
        {
          "name": "stdout",
          "output_type": "stream",
          "text": [
            "168\n"
          ]
        }
      ],
      "source": [
        "# Count of unique car names\n",
        "unique_car_names = cars_data['Car_Name'].nunique()\n",
        "print(unique_car_names)"
      ]
    },
    {
      "cell_type": "code",
      "execution_count": 16,
      "metadata": {
        "colab": {
          "base_uri": "https://localhost:8080/"
        },
        "id": "ewx4A6Tv1bNt",
        "outputId": "fbdb8f4f-d143-4caf-a2d8-f085364a9438"
      },
      "outputs": [
        {
          "name": "stderr",
          "output_type": "stream",
          "text": [
            "C:\\Users\\hp\\AppData\\Local\\Temp\\ipykernel_14028\\22846387.py:2: FutureWarning: A value is trying to be set on a copy of a DataFrame or Series through chained assignment using an inplace method.\n",
            "The behavior will change in pandas 3.0. This inplace method will never work because the intermediate object on which we are setting values always behaves as a copy.\n",
            "\n",
            "For example, when doing 'df[col].method(value, inplace=True)', try using 'df.method({col: value}, inplace=True)' or df[col] = df[col].method(value) instead, to perform the operation inplace on the original object.\n",
            "\n",
            "\n",
            "  cars_data['Car_Name'].replace(\n",
            "C:\\Users\\hp\\AppData\\Local\\Temp\\ipykernel_14028\\22846387.py:2: FutureWarning: Downcasting behavior in `replace` is deprecated and will be removed in a future version. To retain the old behavior, explicitly call `result.infer_objects(copy=False)`. To opt-in to the future behavior, set `pd.set_option('future.no_silent_downcasting', True)`\n",
            "  cars_data['Car_Name'].replace(\n"
          ]
        }
      ],
      "source": [
        "# Encoding the 'Car_Name' column\n",
        "cars_data['Car_Name'].replace(\n",
        "    ['Move', 'Land', 'Vitz', 'Alto', 'Passo', 'C-HR', 'Hustler', 'Corolla', 'Raize',\n",
        "     'Fortuner', 'Vezel', 'N', 'Picanto', 'Yaris', 'Prius', 'Benz', 'Every', 'X70',\n",
        "     'Grand', 'Wagon', 'Dayz', 'Mira', 'Prado', 'Flair', 'Clipper', 'Hiace', 'Vitara',\n",
        "     'Aygo', 'Saga', 'HS', 'Fit', 'A3', 'BR-V', 'Sienta', 'Oshan', 'Rover', 'Celerio',\n",
        "     'Sorento', 'LX', 'Cast', 'X1', 'Q2', 'A4', 'Note', 'V2', 'Ek', 'Cayenne', 'Grace',\n",
        "     'A6', 'Boon', 'Aqua', 'Thor', 'Civic', 'Q7', 'Pearl', 'Hijet', 'Mehran', 'Xbee',\n",
        "     'Tundra', 'Juke', 'Karvaan', 'Elantra', 'Harrier', 'Voxy', 'ZS', 'Stonic', 'Kizashi',\n",
        "     'Freed', 'Crown', 'Glory', 'Sonata', 'Jimny', 'Premio', 'Roomy', 'Swift', 'Carol',\n",
        "     'Camry', 'Insight', 'Alsvin', 'Tucson', 'CR-V', 'Tiggo', 'Sportage', 'MX', 'Jade',\n",
        "     'RX', 'City', 'Tacoma', 'Moco', 'Taft', 'EK', 'Avanza', 'H6', 'Ciaz', 'Pixis', 'A5',\n",
        "     'Hilux', 'Serena', 'S660', 'Tanto', 'Bravo', 'Spacia', 'Stella', 'F', 'A8', 'Roox',\n",
        "     'X-PV', 'Cultus', 'BJ40', 'Rocky', 'Kicks', 'Sierra', 'Copen', 'Kona', 'Spike', 'Q3',\n",
        "     'Tank', 'Mark', 'X2', 'X7', 'Noah', 'Jolion', 'Challenger', 'Terios', 'Panamera',\n",
        "     'CT200h', 'Cx3', 'Esquire', 'Ignis', 'Bolan', 'MR', 'Rush', 'Accord', 'iQ', 'Wrangler',\n",
        "     'D-Max', 'Ravi', 'Shehzore', 'Pleo', 'Vamos', 'Probox', 'Titan', 'X200', 'CR-Z', 'Z100',\n",
        "     'Mirage', 'Mega', 'A7', 'Nx', 'HR-V', 'Niro', 'K07', 'Amarok', 'Gladiator', 'Patrol',\n",
        "     'Atrai', 'Acty', 'Frontier', 'S', 'Otti', 'X', 'A800', 'Sirius', 'Ioniq', 'Life', 'Cerato',\n",
        "     'Sambar', 'Gen', 'Minica'],\n",
        "    [1, 2, 3, 4, 5, 6, 7, 8, 9, 10, 11, 12, 13, 14, 15, 16, 17, 18, 19, 20, 21, 22, 23, 24,\n",
        "     25, 26, 27, 28, 29, 30, 31, 32, 33, 34, 35, 36, 37, 38, 39, 40, 41, 42, 43, 44, 45, 46,\n",
        "     47, 48, 49, 50, 51, 52, 53, 54, 55, 56, 57, 58, 59, 60, 61, 62, 63, 64, 65, 66, 67,\n",
        "     68, 69, 70, 71, 72, 73, 74, 75, 76, 77, 78, 79, 80, 81, 82, 83, 84, 85, 86, 87, 88,\n",
        "     89, 90, 91, 92, 93, 94, 95, 96, 97, 98, 99, 100, 101, 102, 103, 104, 105, 106, 107,\n",
        "     108, 109, 110, 111, 112, 113, 114, 115, 116, 117, 118, 119, 120, 121, 122, 123, 124,\n",
        "     125, 126, 127, 128, 129, 130, 131, 132, 133, 134, 135, 136, 137, 138, 139, 140, 141,\n",
        "     142, 143, 144, 145, 146, 147, 148, 149, 150, 151, 152, 153, 154, 155, 156, 157, 158,\n",
        "     159, 160, 161, 162, 163, 164, 165, 166, 167, 168,169],\n",
        "    inplace=True\n",
        ")\n",
        "\n"
      ]
    },
    {
      "cell_type": "code",
      "execution_count": 17,
      "metadata": {
        "colab": {
          "base_uri": "https://localhost:8080/"
        },
        "id": "rjhqg7XW584-",
        "outputId": "ca76193a-27ec-45e5-b4f1-90f7c9c2e878"
      },
      "outputs": [
        {
          "data": {
            "text/plain": [
              "array(['Hatchback', 'SUV', 'Crossover', 'Sedan', 'Micro Van', 'MPV',\n",
              "       'Van', 'Compact SUV', 'Station Wagon', 'Mini Van', 'Double Cabin',\n",
              "       'Convertible', 'Coupe', 'Pick Up', 'Mini Vehicles', 'High Roof',\n",
              "       'Compact sedan', 'Compact hatchback', 'Truck', 'Single Cabin'],\n",
              "      dtype=object)"
            ]
          },
          "execution_count": 17,
          "metadata": {},
          "output_type": "execute_result"
        }
      ],
      "source": [
        "# Count of unique car body names\n",
        "cars_data['Car_Body'].unique()"
      ]
    },
    {
      "cell_type": "code",
      "execution_count": 18,
      "metadata": {
        "colab": {
          "base_uri": "https://localhost:8080/"
        },
        "id": "TBhHqMZX5_65",
        "outputId": "4320fe9a-13ad-483d-a294-b8c43f28f826"
      },
      "outputs": [
        {
          "name": "stderr",
          "output_type": "stream",
          "text": [
            "C:\\Users\\hp\\AppData\\Local\\Temp\\ipykernel_14028\\3645406501.py:2: FutureWarning: A value is trying to be set on a copy of a DataFrame or Series through chained assignment using an inplace method.\n",
            "The behavior will change in pandas 3.0. This inplace method will never work because the intermediate object on which we are setting values always behaves as a copy.\n",
            "\n",
            "For example, when doing 'df[col].method(value, inplace=True)', try using 'df.method({col: value}, inplace=True)' or df[col] = df[col].method(value) instead, to perform the operation inplace on the original object.\n",
            "\n",
            "\n",
            "  cars_data['Car_Body'].replace(['Hatchback', 'SUV', 'Crossover', 'Sedan', 'Micro Van', 'MPV',\n",
            "C:\\Users\\hp\\AppData\\Local\\Temp\\ipykernel_14028\\3645406501.py:2: FutureWarning: Downcasting behavior in `replace` is deprecated and will be removed in a future version. To retain the old behavior, explicitly call `result.infer_objects(copy=False)`. To opt-in to the future behavior, set `pd.set_option('future.no_silent_downcasting', True)`\n",
            "  cars_data['Car_Body'].replace(['Hatchback', 'SUV', 'Crossover', 'Sedan', 'Micro Van', 'MPV',\n"
          ]
        }
      ],
      "source": [
        "# Encoding the 'Car_Body' column\n",
        "cars_data['Car_Body'].replace(['Hatchback', 'SUV', 'Crossover', 'Sedan', 'Micro Van', 'MPV',\n",
        "       'Van', 'Compact SUV', 'Station Wagon', 'Mini Van', 'Double Cabin',\n",
        "       'Convertible', 'Coupe', 'Pick Up', 'Mini Vehicles', 'High Roof',\n",
        "       'Compact sedan', 'Compact hatchback', 'Truck', 'Single Cabin'],\n",
        "                          [1,2,3,4,5,6,7,8,9,10,11,12,13,14,15,16,17,18,19,20] ,inplace=True)"
      ]
    },
    {
      "cell_type": "code",
      "execution_count": 19,
      "metadata": {
        "colab": {
          "base_uri": "https://localhost:8080/"
        },
        "id": "qSYqB4vf2xIC",
        "outputId": "fcd0f8df-ef4c-4acb-f0d3-5a29c37a6786"
      },
      "outputs": [
        {
          "data": {
            "text/plain": [
              "array(['Automatic', 'Manual'], dtype=object)"
            ]
          },
          "execution_count": 19,
          "metadata": {},
          "output_type": "execute_result"
        }
      ],
      "source": [
        "# Count of unique transmission\n",
        "cars_data['Transmission'].unique()"
      ]
    },
    {
      "cell_type": "code",
      "execution_count": 20,
      "metadata": {
        "colab": {
          "base_uri": "https://localhost:8080/"
        },
        "id": "CvEYT5UA4IsN",
        "outputId": "e3a69ae5-2fa6-459e-d4cd-a8ae92f69cd5"
      },
      "outputs": [
        {
          "name": "stderr",
          "output_type": "stream",
          "text": [
            "C:\\Users\\hp\\AppData\\Local\\Temp\\ipykernel_14028\\1586291614.py:2: FutureWarning: A value is trying to be set on a copy of a DataFrame or Series through chained assignment using an inplace method.\n",
            "The behavior will change in pandas 3.0. This inplace method will never work because the intermediate object on which we are setting values always behaves as a copy.\n",
            "\n",
            "For example, when doing 'df[col].method(value, inplace=True)', try using 'df.method({col: value}, inplace=True)' or df[col] = df[col].method(value) instead, to perform the operation inplace on the original object.\n",
            "\n",
            "\n",
            "  cars_data['Transmission'].replace(['Automatic', 'Manual'],[1,2], inplace=True)\n",
            "C:\\Users\\hp\\AppData\\Local\\Temp\\ipykernel_14028\\1586291614.py:2: FutureWarning: Downcasting behavior in `replace` is deprecated and will be removed in a future version. To retain the old behavior, explicitly call `result.infer_objects(copy=False)`. To opt-in to the future behavior, set `pd.set_option('future.no_silent_downcasting', True)`\n",
            "  cars_data['Transmission'].replace(['Automatic', 'Manual'],[1,2], inplace=True)\n"
          ]
        }
      ],
      "source": [
        "# Encoding the 'Transmission' column\n",
        "cars_data['Transmission'].replace(['Automatic', 'Manual'],[1,2], inplace=True)"
      ]
    },
    {
      "cell_type": "code",
      "execution_count": 21,
      "metadata": {
        "colab": {
          "base_uri": "https://localhost:8080/"
        },
        "id": "DXaBHOs04US4",
        "outputId": "c7981a98-36fa-4e96-c4b6-4004c908a54d"
      },
      "outputs": [
        {
          "data": {
            "text/plain": [
              "array(['Petrol', 'Hybrid', 'Diesel'], dtype=object)"
            ]
          },
          "execution_count": 21,
          "metadata": {},
          "output_type": "execute_result"
        }
      ],
      "source": [
        "# Count of unique fueltype\n",
        "cars_data['Fueltype'].unique()"
      ]
    },
    {
      "cell_type": "code",
      "execution_count": 22,
      "metadata": {
        "colab": {
          "base_uri": "https://localhost:8080/"
        },
        "id": "t7kEVolW4Y91",
        "outputId": "23ac17ed-b487-4e3d-d5d4-2d24e0ed4ead"
      },
      "outputs": [
        {
          "name": "stderr",
          "output_type": "stream",
          "text": [
            "C:\\Users\\hp\\AppData\\Local\\Temp\\ipykernel_14028\\1635613199.py:2: FutureWarning: A value is trying to be set on a copy of a DataFrame or Series through chained assignment using an inplace method.\n",
            "The behavior will change in pandas 3.0. This inplace method will never work because the intermediate object on which we are setting values always behaves as a copy.\n",
            "\n",
            "For example, when doing 'df[col].method(value, inplace=True)', try using 'df.method({col: value}, inplace=True)' or df[col] = df[col].method(value) instead, to perform the operation inplace on the original object.\n",
            "\n",
            "\n",
            "  cars_data['Fueltype'].replace(['Petrol', 'Hybrid', 'Diesel'],[1,2,3], inplace=True)\n",
            "C:\\Users\\hp\\AppData\\Local\\Temp\\ipykernel_14028\\1635613199.py:2: FutureWarning: Downcasting behavior in `replace` is deprecated and will be removed in a future version. To retain the old behavior, explicitly call `result.infer_objects(copy=False)`. To opt-in to the future behavior, set `pd.set_option('future.no_silent_downcasting', True)`\n",
            "  cars_data['Fueltype'].replace(['Petrol', 'Hybrid', 'Diesel'],[1,2,3], inplace=True)\n"
          ]
        }
      ],
      "source": [
        " # Encoding the 'Fueltype' column\n",
        "cars_data['Fueltype'].replace(['Petrol', 'Hybrid', 'Diesel'],[1,2,3], inplace=True)"
      ]
    },
    {
      "cell_type": "code",
      "execution_count": 23,
      "metadata": {
        "colab": {
          "base_uri": "https://localhost:8080/",
          "height": 423
        },
        "id": "QbhK-Nvw4pE3",
        "outputId": "89d67336-0099-4eba-9a84-bb9d0ce0a018"
      },
      "outputs": [
        {
          "data": {
            "text/html": [
              "<div>\n",
              "<style scoped>\n",
              "    .dataframe tbody tr th:only-of-type {\n",
              "        vertical-align: middle;\n",
              "    }\n",
              "\n",
              "    .dataframe tbody tr th {\n",
              "        vertical-align: top;\n",
              "    }\n",
              "\n",
              "    .dataframe thead th {\n",
              "        text-align: right;\n",
              "    }\n",
              "</style>\n",
              "<table border=\"1\" class=\"dataframe\">\n",
              "  <thead>\n",
              "    <tr style=\"text-align: right;\">\n",
              "      <th></th>\n",
              "      <th>Car_Body</th>\n",
              "      <th>Car_Name</th>\n",
              "      <th>Year</th>\n",
              "      <th>Engine</th>\n",
              "      <th>Transmission</th>\n",
              "      <th>Fueltype</th>\n",
              "      <th>Mileage</th>\n",
              "      <th>Price</th>\n",
              "    </tr>\n",
              "  </thead>\n",
              "  <tbody>\n",
              "    <tr>\n",
              "      <th>0</th>\n",
              "      <td>1</td>\n",
              "      <td>1</td>\n",
              "      <td>2019</td>\n",
              "      <td>660</td>\n",
              "      <td>1</td>\n",
              "      <td>1</td>\n",
              "      <td>77450</td>\n",
              "      <td>3650000</td>\n",
              "    </tr>\n",
              "    <tr>\n",
              "      <th>1</th>\n",
              "      <td>1</td>\n",
              "      <td>1</td>\n",
              "      <td>2019</td>\n",
              "      <td>660</td>\n",
              "      <td>1</td>\n",
              "      <td>1</td>\n",
              "      <td>47499</td>\n",
              "      <td>3850000</td>\n",
              "    </tr>\n",
              "    <tr>\n",
              "      <th>2</th>\n",
              "      <td>1</td>\n",
              "      <td>1</td>\n",
              "      <td>2019</td>\n",
              "      <td>660</td>\n",
              "      <td>1</td>\n",
              "      <td>1</td>\n",
              "      <td>69951</td>\n",
              "      <td>3550000</td>\n",
              "    </tr>\n",
              "    <tr>\n",
              "      <th>3</th>\n",
              "      <td>1</td>\n",
              "      <td>1</td>\n",
              "      <td>2019</td>\n",
              "      <td>660</td>\n",
              "      <td>1</td>\n",
              "      <td>1</td>\n",
              "      <td>83465</td>\n",
              "      <td>3550000</td>\n",
              "    </tr>\n",
              "    <tr>\n",
              "      <th>4</th>\n",
              "      <td>2</td>\n",
              "      <td>2</td>\n",
              "      <td>2022</td>\n",
              "      <td>3500</td>\n",
              "      <td>1</td>\n",
              "      <td>1</td>\n",
              "      <td>12000</td>\n",
              "      <td>89800000</td>\n",
              "    </tr>\n",
              "    <tr>\n",
              "      <th>...</th>\n",
              "      <td>...</td>\n",
              "      <td>...</td>\n",
              "      <td>...</td>\n",
              "      <td>...</td>\n",
              "      <td>...</td>\n",
              "      <td>...</td>\n",
              "      <td>...</td>\n",
              "      <td>...</td>\n",
              "    </tr>\n",
              "    <tr>\n",
              "      <th>6608</th>\n",
              "      <td>4</td>\n",
              "      <td>16</td>\n",
              "      <td>2016</td>\n",
              "      <td>1600</td>\n",
              "      <td>1</td>\n",
              "      <td>1</td>\n",
              "      <td>110000</td>\n",
              "      <td>13500000</td>\n",
              "    </tr>\n",
              "    <tr>\n",
              "      <th>6609</th>\n",
              "      <td>4</td>\n",
              "      <td>53</td>\n",
              "      <td>2017</td>\n",
              "      <td>1800</td>\n",
              "      <td>1</td>\n",
              "      <td>1</td>\n",
              "      <td>47000</td>\n",
              "      <td>5200000</td>\n",
              "    </tr>\n",
              "    <tr>\n",
              "      <th>6610</th>\n",
              "      <td>3</td>\n",
              "      <td>11</td>\n",
              "      <td>2017</td>\n",
              "      <td>1500</td>\n",
              "      <td>1</td>\n",
              "      <td>1</td>\n",
              "      <td>54000</td>\n",
              "      <td>7600000</td>\n",
              "    </tr>\n",
              "    <tr>\n",
              "      <th>6611</th>\n",
              "      <td>1</td>\n",
              "      <td>4</td>\n",
              "      <td>2015</td>\n",
              "      <td>660</td>\n",
              "      <td>1</td>\n",
              "      <td>1</td>\n",
              "      <td>65000</td>\n",
              "      <td>2420000</td>\n",
              "    </tr>\n",
              "    <tr>\n",
              "      <th>6612</th>\n",
              "      <td>3</td>\n",
              "      <td>30</td>\n",
              "      <td>2021</td>\n",
              "      <td>1490</td>\n",
              "      <td>1</td>\n",
              "      <td>1</td>\n",
              "      <td>5000</td>\n",
              "      <td>7500000</td>\n",
              "    </tr>\n",
              "  </tbody>\n",
              "</table>\n",
              "<p>6613 rows × 8 columns</p>\n",
              "</div>"
            ],
            "text/plain": [
              "      Car_Body  Car_Name  Year  Engine  Transmission  Fueltype  Mileage  \\\n",
              "0            1         1  2019     660             1         1    77450   \n",
              "1            1         1  2019     660             1         1    47499   \n",
              "2            1         1  2019     660             1         1    69951   \n",
              "3            1         1  2019     660             1         1    83465   \n",
              "4            2         2  2022    3500             1         1    12000   \n",
              "...        ...       ...   ...     ...           ...       ...      ...   \n",
              "6608         4        16  2016    1600             1         1   110000   \n",
              "6609         4        53  2017    1800             1         1    47000   \n",
              "6610         3        11  2017    1500             1         1    54000   \n",
              "6611         1         4  2015     660             1         1    65000   \n",
              "6612         3        30  2021    1490             1         1     5000   \n",
              "\n",
              "         Price  \n",
              "0      3650000  \n",
              "1      3850000  \n",
              "2      3550000  \n",
              "3      3550000  \n",
              "4     89800000  \n",
              "...        ...  \n",
              "6608  13500000  \n",
              "6609   5200000  \n",
              "6610   7600000  \n",
              "6611   2420000  \n",
              "6612   7500000  \n",
              "\n",
              "[6613 rows x 8 columns]"
            ]
          },
          "execution_count": 23,
          "metadata": {},
          "output_type": "execute_result"
        }
      ],
      "source": [
        "cars_data"
      ]
    },
    {
      "cell_type": "code",
      "execution_count": 24,
      "metadata": {
        "colab": {
          "base_uri": "https://localhost:8080/"
        },
        "id": "egiqln4p4q0i",
        "outputId": "753bbca9-0c46-455e-fd25-acb5cc3c213c"
      },
      "outputs": [
        {
          "name": "stdout",
          "output_type": "stream",
          "text": [
            "------------\n",
            "Car_Body\n",
            "[ 1  2  3  4  5  6  7  8  9 10 11 12 13 14 15 16 17 18 19 20]\n",
            "------------\n",
            "Car_Name\n",
            "[  1   2   3   4   5   6   7   8   9  10  11  12  13  14  15  16  17  18\n",
            "  19  20  21  22  23  24  25  26  27  28  29  30  31  32  33  34  35  36\n",
            "  37  38  39  40  41  42  43  44  45  46  47  48  49  50  51  52  53  54\n",
            "  55  56  57  58  59  60  61  62  63  64  65  66  67  68  69  70  71  72\n",
            "  73  74  75  76  77  78  79  80  81  82  83  84  85  86  87  88  89  90\n",
            "  91  92  93  94  95  96  97  98  99 100 101 102 103 104 105 106 107 108\n",
            " 109 110 111 112 113 114 115 116 117 118 119 120 121 122 123 124 125 126\n",
            " 127 128 129 130 131 132 133 134 135 136 137 138 139 140 141 142 143 144\n",
            " 145 146 147 148 149 150 151 152 153 154 155 156 157 158 159 161 162 163\n",
            " 164 165 166 167 168 169]\n",
            "------------\n",
            "Year\n",
            "[2019 2022 2020 2018 2015 2017 2016 2021]\n",
            "------------\n",
            "Engine\n",
            "[ 660 3500 1500 1000 1800  996 1300 2700  998 2000 3470 1496 4600 2800\n",
            " 1600 1490 1499 1997 3479 5700 1400 1198 1200 3000 1197 4608  800  796\n",
            " 1999 1368 2400 2487 2755 1498 2500 3300 1598  999 1797 1984 2497 4000\n",
            " 3342 3496 1299 1991 5000 6600 1242 1497 1968 1798 3400 3600 1981 3445\n",
            " 2600 2999 3956 1986 2359 3996 1580 3604 3954  997 1799 5663]\n",
            "------------\n",
            "Transmission\n",
            "[1 2]\n",
            "------------\n",
            "Fueltype\n",
            "[1 2 3]\n",
            "------------\n",
            "Mileage\n",
            "[ 77450  47499  69951 ... 197264  92233 105263]\n",
            "------------\n",
            "Price\n",
            "[ 3650000  3850000  3550000 ...  1040000 26700000 23300000]\n"
          ]
        }
      ],
      "source": [
        "# Final dataset overview\n",
        "for col in cars_data.columns:\n",
        "    print('------------')\n",
        "    print(col)\n",
        "    print(cars_data[col].unique())"
      ]
    },
    {
      "cell_type": "code",
      "execution_count": 25,
      "metadata": {
        "id": "CNgLo05z41Xp"
      },
      "outputs": [],
      "source": [
        "# Separating input and output data\n",
        "input_data = cars_data.drop(columns=['Price'])\n",
        "output_data =cars_data['Price']"
      ]
    },
    {
      "cell_type": "markdown",
      "metadata": {
        "id": "MRIGqHSwTQam"
      },
      "source": [
        "Step 5: Splitting the Data"
      ]
    },
    {
      "cell_type": "code",
      "execution_count": 26,
      "metadata": {
        "id": "PuhssmBK49am"
      },
      "outputs": [],
      "source": [
        "# Train-test split\n",
        "x_train, x_test, y_train, y_test = train_test_split(input_data, output_data, test_size=0.2, random_state=42)"
      ]
    },
    {
      "cell_type": "markdown",
      "metadata": {
        "id": "DM1SfniPUbAr"
      },
      "source": [
        "Step 6: Model Training"
      ]
    },
    {
      "cell_type": "code",
      "execution_count": 27,
      "metadata": {
        "id": "ke6WWyAz5ARa"
      },
      "outputs": [],
      "source": [
        "# Initialize and train Random Forest model with parameters to reduce overfitting\n",
        "rf_model = RandomForestRegressor(\n",
        "    n_estimators=100,\n",
        "    max_depth=20,\n",
        "    min_samples_split=10,\n",
        "    min_samples_leaf=5,\n",
        "    max_features='sqrt',\n",
        "    random_state=42\n",
        ")"
      ]
    },
    {
      "cell_type": "code",
      "execution_count": 28,
      "metadata": {
        "colab": {
          "base_uri": "https://localhost:8080/",
          "height": 97
        },
        "id": "_YFu022Z5Cmq",
        "outputId": "00a1cbd9-40e5-486d-ae94-c5026bfa8f43"
      },
      "outputs": [
        {
          "data": {
            "text/html": [
              "<style>#sk-container-id-1 {\n",
              "  /* Definition of color scheme common for light and dark mode */\n",
              "  --sklearn-color-text: black;\n",
              "  --sklearn-color-line: gray;\n",
              "  /* Definition of color scheme for unfitted estimators */\n",
              "  --sklearn-color-unfitted-level-0: #fff5e6;\n",
              "  --sklearn-color-unfitted-level-1: #f6e4d2;\n",
              "  --sklearn-color-unfitted-level-2: #ffe0b3;\n",
              "  --sklearn-color-unfitted-level-3: chocolate;\n",
              "  /* Definition of color scheme for fitted estimators */\n",
              "  --sklearn-color-fitted-level-0: #f0f8ff;\n",
              "  --sklearn-color-fitted-level-1: #d4ebff;\n",
              "  --sklearn-color-fitted-level-2: #b3dbfd;\n",
              "  --sklearn-color-fitted-level-3: cornflowerblue;\n",
              "\n",
              "  /* Specific color for light theme */\n",
              "  --sklearn-color-text-on-default-background: var(--sg-text-color, var(--theme-code-foreground, var(--jp-content-font-color1, black)));\n",
              "  --sklearn-color-background: var(--sg-background-color, var(--theme-background, var(--jp-layout-color0, white)));\n",
              "  --sklearn-color-border-box: var(--sg-text-color, var(--theme-code-foreground, var(--jp-content-font-color1, black)));\n",
              "  --sklearn-color-icon: #696969;\n",
              "\n",
              "  @media (prefers-color-scheme: dark) {\n",
              "    /* Redefinition of color scheme for dark theme */\n",
              "    --sklearn-color-text-on-default-background: var(--sg-text-color, var(--theme-code-foreground, var(--jp-content-font-color1, white)));\n",
              "    --sklearn-color-background: var(--sg-background-color, var(--theme-background, var(--jp-layout-color0, #111)));\n",
              "    --sklearn-color-border-box: var(--sg-text-color, var(--theme-code-foreground, var(--jp-content-font-color1, white)));\n",
              "    --sklearn-color-icon: #878787;\n",
              "  }\n",
              "}\n",
              "\n",
              "#sk-container-id-1 {\n",
              "  color: var(--sklearn-color-text);\n",
              "}\n",
              "\n",
              "#sk-container-id-1 pre {\n",
              "  padding: 0;\n",
              "}\n",
              "\n",
              "#sk-container-id-1 input.sk-hidden--visually {\n",
              "  border: 0;\n",
              "  clip: rect(1px 1px 1px 1px);\n",
              "  clip: rect(1px, 1px, 1px, 1px);\n",
              "  height: 1px;\n",
              "  margin: -1px;\n",
              "  overflow: hidden;\n",
              "  padding: 0;\n",
              "  position: absolute;\n",
              "  width: 1px;\n",
              "}\n",
              "\n",
              "#sk-container-id-1 div.sk-dashed-wrapped {\n",
              "  border: 1px dashed var(--sklearn-color-line);\n",
              "  margin: 0 0.4em 0.5em 0.4em;\n",
              "  box-sizing: border-box;\n",
              "  padding-bottom: 0.4em;\n",
              "  background-color: var(--sklearn-color-background);\n",
              "}\n",
              "\n",
              "#sk-container-id-1 div.sk-container {\n",
              "  /* jupyter's `normalize.less` sets `[hidden] { display: none; }`\n",
              "     but bootstrap.min.css set `[hidden] { display: none !important; }`\n",
              "     so we also need the `!important` here to be able to override the\n",
              "     default hidden behavior on the sphinx rendered scikit-learn.org.\n",
              "     See: https://github.com/scikit-learn/scikit-learn/issues/21755 */\n",
              "  display: inline-block !important;\n",
              "  position: relative;\n",
              "}\n",
              "\n",
              "#sk-container-id-1 div.sk-text-repr-fallback {\n",
              "  display: none;\n",
              "}\n",
              "\n",
              "div.sk-parallel-item,\n",
              "div.sk-serial,\n",
              "div.sk-item {\n",
              "  /* draw centered vertical line to link estimators */\n",
              "  background-image: linear-gradient(var(--sklearn-color-text-on-default-background), var(--sklearn-color-text-on-default-background));\n",
              "  background-size: 2px 100%;\n",
              "  background-repeat: no-repeat;\n",
              "  background-position: center center;\n",
              "}\n",
              "\n",
              "/* Parallel-specific style estimator block */\n",
              "\n",
              "#sk-container-id-1 div.sk-parallel-item::after {\n",
              "  content: \"\";\n",
              "  width: 100%;\n",
              "  border-bottom: 2px solid var(--sklearn-color-text-on-default-background);\n",
              "  flex-grow: 1;\n",
              "}\n",
              "\n",
              "#sk-container-id-1 div.sk-parallel {\n",
              "  display: flex;\n",
              "  align-items: stretch;\n",
              "  justify-content: center;\n",
              "  background-color: var(--sklearn-color-background);\n",
              "  position: relative;\n",
              "}\n",
              "\n",
              "#sk-container-id-1 div.sk-parallel-item {\n",
              "  display: flex;\n",
              "  flex-direction: column;\n",
              "}\n",
              "\n",
              "#sk-container-id-1 div.sk-parallel-item:first-child::after {\n",
              "  align-self: flex-end;\n",
              "  width: 50%;\n",
              "}\n",
              "\n",
              "#sk-container-id-1 div.sk-parallel-item:last-child::after {\n",
              "  align-self: flex-start;\n",
              "  width: 50%;\n",
              "}\n",
              "\n",
              "#sk-container-id-1 div.sk-parallel-item:only-child::after {\n",
              "  width: 0;\n",
              "}\n",
              "\n",
              "/* Serial-specific style estimator block */\n",
              "\n",
              "#sk-container-id-1 div.sk-serial {\n",
              "  display: flex;\n",
              "  flex-direction: column;\n",
              "  align-items: center;\n",
              "  background-color: var(--sklearn-color-background);\n",
              "  padding-right: 1em;\n",
              "  padding-left: 1em;\n",
              "}\n",
              "\n",
              "\n",
              "/* Toggleable style: style used for estimator/Pipeline/ColumnTransformer box that is\n",
              "clickable and can be expanded/collapsed.\n",
              "- Pipeline and ColumnTransformer use this feature and define the default style\n",
              "- Estimators will overwrite some part of the style using the `sk-estimator` class\n",
              "*/\n",
              "\n",
              "/* Pipeline and ColumnTransformer style (default) */\n",
              "\n",
              "#sk-container-id-1 div.sk-toggleable {\n",
              "  /* Default theme specific background. It is overwritten whether we have a\n",
              "  specific estimator or a Pipeline/ColumnTransformer */\n",
              "  background-color: var(--sklearn-color-background);\n",
              "}\n",
              "\n",
              "/* Toggleable label */\n",
              "#sk-container-id-1 label.sk-toggleable__label {\n",
              "  cursor: pointer;\n",
              "  display: block;\n",
              "  width: 100%;\n",
              "  margin-bottom: 0;\n",
              "  padding: 0.5em;\n",
              "  box-sizing: border-box;\n",
              "  text-align: center;\n",
              "}\n",
              "\n",
              "#sk-container-id-1 label.sk-toggleable__label-arrow:before {\n",
              "  /* Arrow on the left of the label */\n",
              "  content: \"▸\";\n",
              "  float: left;\n",
              "  margin-right: 0.25em;\n",
              "  color: var(--sklearn-color-icon);\n",
              "}\n",
              "\n",
              "#sk-container-id-1 label.sk-toggleable__label-arrow:hover:before {\n",
              "  color: var(--sklearn-color-text);\n",
              "}\n",
              "\n",
              "/* Toggleable content - dropdown */\n",
              "\n",
              "#sk-container-id-1 div.sk-toggleable__content {\n",
              "  max-height: 0;\n",
              "  max-width: 0;\n",
              "  overflow: hidden;\n",
              "  text-align: left;\n",
              "  /* unfitted */\n",
              "  background-color: var(--sklearn-color-unfitted-level-0);\n",
              "}\n",
              "\n",
              "#sk-container-id-1 div.sk-toggleable__content.fitted {\n",
              "  /* fitted */\n",
              "  background-color: var(--sklearn-color-fitted-level-0);\n",
              "}\n",
              "\n",
              "#sk-container-id-1 div.sk-toggleable__content pre {\n",
              "  margin: 0.2em;\n",
              "  border-radius: 0.25em;\n",
              "  color: var(--sklearn-color-text);\n",
              "  /* unfitted */\n",
              "  background-color: var(--sklearn-color-unfitted-level-0);\n",
              "}\n",
              "\n",
              "#sk-container-id-1 div.sk-toggleable__content.fitted pre {\n",
              "  /* unfitted */\n",
              "  background-color: var(--sklearn-color-fitted-level-0);\n",
              "}\n",
              "\n",
              "#sk-container-id-1 input.sk-toggleable__control:checked~div.sk-toggleable__content {\n",
              "  /* Expand drop-down */\n",
              "  max-height: 200px;\n",
              "  max-width: 100%;\n",
              "  overflow: auto;\n",
              "}\n",
              "\n",
              "#sk-container-id-1 input.sk-toggleable__control:checked~label.sk-toggleable__label-arrow:before {\n",
              "  content: \"▾\";\n",
              "}\n",
              "\n",
              "/* Pipeline/ColumnTransformer-specific style */\n",
              "\n",
              "#sk-container-id-1 div.sk-label input.sk-toggleable__control:checked~label.sk-toggleable__label {\n",
              "  color: var(--sklearn-color-text);\n",
              "  background-color: var(--sklearn-color-unfitted-level-2);\n",
              "}\n",
              "\n",
              "#sk-container-id-1 div.sk-label.fitted input.sk-toggleable__control:checked~label.sk-toggleable__label {\n",
              "  background-color: var(--sklearn-color-fitted-level-2);\n",
              "}\n",
              "\n",
              "/* Estimator-specific style */\n",
              "\n",
              "/* Colorize estimator box */\n",
              "#sk-container-id-1 div.sk-estimator input.sk-toggleable__control:checked~label.sk-toggleable__label {\n",
              "  /* unfitted */\n",
              "  background-color: var(--sklearn-color-unfitted-level-2);\n",
              "}\n",
              "\n",
              "#sk-container-id-1 div.sk-estimator.fitted input.sk-toggleable__control:checked~label.sk-toggleable__label {\n",
              "  /* fitted */\n",
              "  background-color: var(--sklearn-color-fitted-level-2);\n",
              "}\n",
              "\n",
              "#sk-container-id-1 div.sk-label label.sk-toggleable__label,\n",
              "#sk-container-id-1 div.sk-label label {\n",
              "  /* The background is the default theme color */\n",
              "  color: var(--sklearn-color-text-on-default-background);\n",
              "}\n",
              "\n",
              "/* On hover, darken the color of the background */\n",
              "#sk-container-id-1 div.sk-label:hover label.sk-toggleable__label {\n",
              "  color: var(--sklearn-color-text);\n",
              "  background-color: var(--sklearn-color-unfitted-level-2);\n",
              "}\n",
              "\n",
              "/* Label box, darken color on hover, fitted */\n",
              "#sk-container-id-1 div.sk-label.fitted:hover label.sk-toggleable__label.fitted {\n",
              "  color: var(--sklearn-color-text);\n",
              "  background-color: var(--sklearn-color-fitted-level-2);\n",
              "}\n",
              "\n",
              "/* Estimator label */\n",
              "\n",
              "#sk-container-id-1 div.sk-label label {\n",
              "  font-family: monospace;\n",
              "  font-weight: bold;\n",
              "  display: inline-block;\n",
              "  line-height: 1.2em;\n",
              "}\n",
              "\n",
              "#sk-container-id-1 div.sk-label-container {\n",
              "  text-align: center;\n",
              "}\n",
              "\n",
              "/* Estimator-specific */\n",
              "#sk-container-id-1 div.sk-estimator {\n",
              "  font-family: monospace;\n",
              "  border: 1px dotted var(--sklearn-color-border-box);\n",
              "  border-radius: 0.25em;\n",
              "  box-sizing: border-box;\n",
              "  margin-bottom: 0.5em;\n",
              "  /* unfitted */\n",
              "  background-color: var(--sklearn-color-unfitted-level-0);\n",
              "}\n",
              "\n",
              "#sk-container-id-1 div.sk-estimator.fitted {\n",
              "  /* fitted */\n",
              "  background-color: var(--sklearn-color-fitted-level-0);\n",
              "}\n",
              "\n",
              "/* on hover */\n",
              "#sk-container-id-1 div.sk-estimator:hover {\n",
              "  /* unfitted */\n",
              "  background-color: var(--sklearn-color-unfitted-level-2);\n",
              "}\n",
              "\n",
              "#sk-container-id-1 div.sk-estimator.fitted:hover {\n",
              "  /* fitted */\n",
              "  background-color: var(--sklearn-color-fitted-level-2);\n",
              "}\n",
              "\n",
              "/* Specification for estimator info (e.g. \"i\" and \"?\") */\n",
              "\n",
              "/* Common style for \"i\" and \"?\" */\n",
              "\n",
              ".sk-estimator-doc-link,\n",
              "a:link.sk-estimator-doc-link,\n",
              "a:visited.sk-estimator-doc-link {\n",
              "  float: right;\n",
              "  font-size: smaller;\n",
              "  line-height: 1em;\n",
              "  font-family: monospace;\n",
              "  background-color: var(--sklearn-color-background);\n",
              "  border-radius: 1em;\n",
              "  height: 1em;\n",
              "  width: 1em;\n",
              "  text-decoration: none !important;\n",
              "  margin-left: 1ex;\n",
              "  /* unfitted */\n",
              "  border: var(--sklearn-color-unfitted-level-1) 1pt solid;\n",
              "  color: var(--sklearn-color-unfitted-level-1);\n",
              "}\n",
              "\n",
              ".sk-estimator-doc-link.fitted,\n",
              "a:link.sk-estimator-doc-link.fitted,\n",
              "a:visited.sk-estimator-doc-link.fitted {\n",
              "  /* fitted */\n",
              "  border: var(--sklearn-color-fitted-level-1) 1pt solid;\n",
              "  color: var(--sklearn-color-fitted-level-1);\n",
              "}\n",
              "\n",
              "/* On hover */\n",
              "div.sk-estimator:hover .sk-estimator-doc-link:hover,\n",
              ".sk-estimator-doc-link:hover,\n",
              "div.sk-label-container:hover .sk-estimator-doc-link:hover,\n",
              ".sk-estimator-doc-link:hover {\n",
              "  /* unfitted */\n",
              "  background-color: var(--sklearn-color-unfitted-level-3);\n",
              "  color: var(--sklearn-color-background);\n",
              "  text-decoration: none;\n",
              "}\n",
              "\n",
              "div.sk-estimator.fitted:hover .sk-estimator-doc-link.fitted:hover,\n",
              ".sk-estimator-doc-link.fitted:hover,\n",
              "div.sk-label-container:hover .sk-estimator-doc-link.fitted:hover,\n",
              ".sk-estimator-doc-link.fitted:hover {\n",
              "  /* fitted */\n",
              "  background-color: var(--sklearn-color-fitted-level-3);\n",
              "  color: var(--sklearn-color-background);\n",
              "  text-decoration: none;\n",
              "}\n",
              "\n",
              "/* Span, style for the box shown on hovering the info icon */\n",
              ".sk-estimator-doc-link span {\n",
              "  display: none;\n",
              "  z-index: 9999;\n",
              "  position: relative;\n",
              "  font-weight: normal;\n",
              "  right: .2ex;\n",
              "  padding: .5ex;\n",
              "  margin: .5ex;\n",
              "  width: min-content;\n",
              "  min-width: 20ex;\n",
              "  max-width: 50ex;\n",
              "  color: var(--sklearn-color-text);\n",
              "  box-shadow: 2pt 2pt 4pt #999;\n",
              "  /* unfitted */\n",
              "  background: var(--sklearn-color-unfitted-level-0);\n",
              "  border: .5pt solid var(--sklearn-color-unfitted-level-3);\n",
              "}\n",
              "\n",
              ".sk-estimator-doc-link.fitted span {\n",
              "  /* fitted */\n",
              "  background: var(--sklearn-color-fitted-level-0);\n",
              "  border: var(--sklearn-color-fitted-level-3);\n",
              "}\n",
              "\n",
              ".sk-estimator-doc-link:hover span {\n",
              "  display: block;\n",
              "}\n",
              "\n",
              "/* \"?\"-specific style due to the `<a>` HTML tag */\n",
              "\n",
              "#sk-container-id-1 a.estimator_doc_link {\n",
              "  float: right;\n",
              "  font-size: 1rem;\n",
              "  line-height: 1em;\n",
              "  font-family: monospace;\n",
              "  background-color: var(--sklearn-color-background);\n",
              "  border-radius: 1rem;\n",
              "  height: 1rem;\n",
              "  width: 1rem;\n",
              "  text-decoration: none;\n",
              "  /* unfitted */\n",
              "  color: var(--sklearn-color-unfitted-level-1);\n",
              "  border: var(--sklearn-color-unfitted-level-1) 1pt solid;\n",
              "}\n",
              "\n",
              "#sk-container-id-1 a.estimator_doc_link.fitted {\n",
              "  /* fitted */\n",
              "  border: var(--sklearn-color-fitted-level-1) 1pt solid;\n",
              "  color: var(--sklearn-color-fitted-level-1);\n",
              "}\n",
              "\n",
              "/* On hover */\n",
              "#sk-container-id-1 a.estimator_doc_link:hover {\n",
              "  /* unfitted */\n",
              "  background-color: var(--sklearn-color-unfitted-level-3);\n",
              "  color: var(--sklearn-color-background);\n",
              "  text-decoration: none;\n",
              "}\n",
              "\n",
              "#sk-container-id-1 a.estimator_doc_link.fitted:hover {\n",
              "  /* fitted */\n",
              "  background-color: var(--sklearn-color-fitted-level-3);\n",
              "}\n",
              "</style><div id=\"sk-container-id-1\" class=\"sk-top-container\"><div class=\"sk-text-repr-fallback\"><pre>RandomForestRegressor(max_depth=20, max_features=&#x27;sqrt&#x27;, min_samples_leaf=5,\n",
              "                      min_samples_split=10, random_state=42)</pre><b>In a Jupyter environment, please rerun this cell to show the HTML representation or trust the notebook. <br />On GitHub, the HTML representation is unable to render, please try loading this page with nbviewer.org.</b></div><div class=\"sk-container\" hidden><div class=\"sk-item\"><div class=\"sk-estimator fitted sk-toggleable\"><input class=\"sk-toggleable__control sk-hidden--visually\" id=\"sk-estimator-id-1\" type=\"checkbox\" checked><label for=\"sk-estimator-id-1\" class=\"sk-toggleable__label fitted sk-toggleable__label-arrow fitted\">&nbsp;&nbsp;RandomForestRegressor<a class=\"sk-estimator-doc-link fitted\" rel=\"noreferrer\" target=\"_blank\" href=\"https://scikit-learn.org/1.5/modules/generated/sklearn.ensemble.RandomForestRegressor.html\">?<span>Documentation for RandomForestRegressor</span></a><span class=\"sk-estimator-doc-link fitted\">i<span>Fitted</span></span></label><div class=\"sk-toggleable__content fitted\"><pre>RandomForestRegressor(max_depth=20, max_features=&#x27;sqrt&#x27;, min_samples_leaf=5,\n",
              "                      min_samples_split=10, random_state=42)</pre></div> </div></div></div></div>"
            ],
            "text/plain": [
              "RandomForestRegressor(max_depth=20, max_features='sqrt', min_samples_leaf=5,\n",
              "                      min_samples_split=10, random_state=42)"
            ]
          },
          "execution_count": 28,
          "metadata": {},
          "output_type": "execute_result"
        }
      ],
      "source": [
        "rf_model.fit(x_train, y_train)"
      ]
    },
    {
      "cell_type": "markdown",
      "metadata": {
        "id": "yx_aGJfCT65f"
      },
      "source": [
        "Step 7: Model Evaluation\n",
        "\n"
      ]
    },
    {
      "cell_type": "code",
      "execution_count": 29,
      "metadata": {
        "id": "dA6N2hJD5EeO"
      },
      "outputs": [],
      "source": [
        "# Predict on the test set\n",
        "y_pred = rf_model.predict(x_test)"
      ]
    },
    {
      "cell_type": "code",
      "execution_count": 30,
      "metadata": {
        "id": "mF-VBPggGHBD"
      },
      "outputs": [],
      "source": [
        "# Evaluate the model\n",
        "mse = mean_squared_error(y_test, y_pred)\n",
        "mae = mean_absolute_error(y_test, y_pred)\n",
        "r_squared = r2_score(y_test, y_pred)"
      ]
    },
    {
      "cell_type": "code",
      "execution_count": 31,
      "metadata": {
        "colab": {
          "base_uri": "https://localhost:8080/"
        },
        "id": "WL0c5juSGIa8",
        "outputId": "fc65865d-ea67-4590-87d8-c66cde1a9d99"
      },
      "outputs": [
        {
          "name": "stdout",
          "output_type": "stream",
          "text": [
            "Mean Squared Error (MSE): 14237623342942.73\n",
            "Mean Absolute Error (MAE): 1168877.6391610608\n",
            "R-squared (R²): 0.8991998715909223\n"
          ]
        }
      ],
      "source": [
        "# Print evaluation metrics\n",
        "print(\"Mean Squared Error (MSE):\", mse)\n",
        "print(\"Mean Absolute Error (MAE):\", mae)\n",
        "print(\"R-squared (R²):\", r_squared)"
      ]
    },
    {
      "cell_type": "markdown",
      "metadata": {
        "id": "JgV7dqNAUIOY"
      },
      "source": [
        "Step 8: Prediction on New Input"
      ]
    },
    {
      "cell_type": "code",
      "execution_count": 32,
      "metadata": {
        "colab": {
          "base_uri": "https://localhost:8080/"
        },
        "id": "aUyAPihTGABk",
        "outputId": "863b9725-9936-4cda-e359-c9d7d8dd167b"
      },
      "outputs": [
        {
          "name": "stdout",
          "output_type": "stream",
          "text": [
            "Predicted Price: [3648218.52749491]\n"
          ]
        }
      ],
      "source": [
        "# Predict on new input data\n",
        "input_data_model = pd.DataFrame(\n",
        "    [[1,1, 2019, 660, 1, 1, 77450]],  # Example input\n",
        "    columns=['Car_Body', 'Car_Name', 'Year', 'Engine', 'Transmission', 'Fueltype', 'Mileage']\n",
        ")\n",
        "predicted_price = rf_model.predict(input_data_model)\n",
        "print(\"Predicted Price:\", predicted_price)"
      ]
    },
    {
      "cell_type": "code",
      "execution_count": 33,
      "metadata": {
        "colab": {
          "base_uri": "https://localhost:8080/",
          "height": 656
        },
        "id": "cMf7cSeMqK4Y",
        "outputId": "5573dcc1-784b-41b6-b519-015be6ffee64"
      },
      "outputs": [
        {
          "name": "stdout",
          "output_type": "stream",
          "text": [
            "        Feature  Importance\n",
            "3        Engine    0.436967\n",
            "1      Car_Name    0.256774\n",
            "0      Car_Body    0.169529\n",
            "6       Mileage    0.070389\n",
            "2          Year    0.057668\n",
            "5      Fueltype    0.005324\n",
            "4  Transmission    0.003349\n"
          ]
        },
        {
          "name": "stderr",
          "output_type": "stream",
          "text": [
            "C:\\Users\\hp\\AppData\\Local\\Temp\\ipykernel_14028\\1611439625.py:12: FutureWarning: \n",
            "\n",
            "Passing `palette` without assigning `hue` is deprecated and will be removed in v0.14.0. Assign the `y` variable to `hue` and set `legend=False` for the same effect.\n",
            "\n",
            "  sns.barplot(x='Importance', y='Feature', data=feature_importance_df, palette='viridis')\n"
          ]
        },
        {
          "data": {
            "image/png": "[encoded data removed]",
            "text/plain": [
              "<Figure size 600x400 with 1 Axes>"
            ]
          },
          "metadata": {},
          "output_type": "display_data"
        }
      ],
      "source": [
        "# Get feature importances\n",
        "feature_importances = rf_model.feature_importances_\n",
        "\n",
        "# Create a DataFrame to display feature importances\n",
        "feature_importance_df = pd.DataFrame({\n",
        "    'Feature': input_data.columns,\n",
        "    'Importance': feature_importances\n",
        "})\n",
        "feature_importance_df = feature_importance_df.sort_values(by='Importance', ascending=False)\n",
        "print(feature_importance_df)\n",
        "plt.figure(figsize=(6, 4))\n",
        "sns.barplot(x='Importance', y='Feature', data=feature_importance_df, palette='viridis')\n",
        "plt.title('Feature Importance in Predicting Price')\n",
        "plt.show()"
      ]
    },
    {
      "cell_type": "markdown",
      "metadata": {
        "id": "C63pWjiNUNqy"
      },
      "source": [
        "Step 9: Save the Model"
      ]
    },
    {
      "cell_type": "code",
      "execution_count": 34,
      "metadata": {
        "id": "6MEPXBY2M7Fr"
      },
      "outputs": [],
      "source": [
        "import pickle as pk"
      ]
    },
    {
      "cell_type": "code",
      "execution_count": 35,
      "metadata": {
        "id": "zeMv9tahUEZ6"
      },
      "outputs": [],
      "source": [
        "pk.dump(rf_model, open('rf_model.pkl', 'wb'))"
      ]
    },
    {
      "cell_type": "code",
      "execution_count": 192,
      "metadata": {
        "id": "mqlpiSuC1NEW"
      },
      "outputs": [],
      "source": []
    }
  ],
  "metadata": {
    "colab": {
      "provenance": []
    },
    "kernelspec": {
      "display_name": "Python 3",
      "name": "python3"
    },
    "language_info": {
      "codemirror_mode": {
        "name": "ipython",
        "version": 3
      },
      "file_extension": ".py",
      "mimetype": "text/x-python",
      "name": "python",
      "nbconvert_exporter": "python",
      "pygments_lexer": "ipython3",
      "version": "3.12.5"
    }
  },
  "nbformat": 4,
  "nbformat_minor": 0
}
